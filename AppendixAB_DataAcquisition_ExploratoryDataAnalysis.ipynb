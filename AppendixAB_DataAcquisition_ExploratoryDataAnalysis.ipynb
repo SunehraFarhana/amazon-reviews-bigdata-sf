{
 "cells": [
  {
   "cell_type": "code",
   "execution_count": 0,
   "metadata": {
    "application/vnd.databricks.v1+cell": {
     "cellMetadata": {},
     "inputWidgets": {},
     "nuid": "51cec4cd-e9f2-4bea-b4cb-7568112ce651",
     "showTitle": true,
     "title": "APPENDIX A: DATA ACQUISITION CODE"
    }
   },
   "outputs": [],
   "source": [
    "#APPENDIX A: DATA ACQUISITION CODE\n",
    "\n",
    "# Configure AWS CLI.\n",
    "aws configure\n",
    "_____\t\t# AWS Access Key ID\n",
    "_____\t\t# Secret Access Key\n",
    "us-east-2\t# Default region name\n",
    "json\t\t# Default output format"
   ]
  },
  {
   "cell_type": "code",
   "execution_count": 0,
   "metadata": {
    "application/vnd.databricks.v1+cell": {
     "cellMetadata": {},
     "inputWidgets": {},
     "nuid": "f0dceb68-d13c-415d-bf83-1eef386762f3",
     "showTitle": false,
     "title": ""
    }
   },
   "outputs": [],
   "source": [
    "# Install pip.\n",
    "sudo yum -y install python3-pip\n",
    "# Instal Kaggle CLI.\n",
    "pip3 install Kaggle"
   ]
  },
  {
   "cell_type": "code",
   "execution_count": 0,
   "metadata": {
    "application/vnd.databricks.v1+cell": {
     "cellMetadata": {},
     "inputWidgets": {},
     "nuid": "01c36a5f-b8a5-40ec-9493-f7dcb35917d5",
     "showTitle": false,
     "title": ""
    }
   },
   "outputs": [],
   "source": [
    "# Made directory for Kaggle. \n",
    "mkdir .kaggle\n",
    "# Create file.\n",
    "nano .kaggle/kaggle.json \n",
    "# [paste username and key]\n",
    "# Secure file.\n",
    "chmod 600 .kaggle/kaggle.json"
   ]
  },
  {
   "cell_type": "code",
   "execution_count": 0,
   "metadata": {
    "application/vnd.databricks.v1+cell": {
     "cellMetadata": {},
     "inputWidgets": {},
     "nuid": "019488fe-b485-4914-a58b-6f11aa846097",
     "showTitle": false,
     "title": ""
    }
   },
   "outputs": [],
   "source": [
    "# Download each file from Kaggle.\n",
    "kaggle datasets download -d cynthiarempel/amazon-us-customer-reviews-dataset -f amazon_reviews_us_Apparel_v1_00.tsv\n",
    "# Unzip file.\n",
    "unzip amazon_reviews_us_Apparel_v1_00.tsv.zip\n",
    "# Put file in landing folder of S3 bucket.\n",
    "aws s3 cp amazon_reviews_us_Apparel_v1_00.tsv s3://my-bigdata-project-sf/landing/ amazon_reviews_us_Apparel_v1_00.tsv"
   ]
  },
  {
   "cell_type": "code",
   "execution_count": 0,
   "metadata": {
    "application/vnd.databricks.v1+cell": {
     "cellMetadata": {},
     "inputWidgets": {},
     "nuid": "960fd9b3-ea62-4065-a2a2-97a7c6d7e22a",
     "showTitle": false,
     "title": ""
    }
   },
   "outputs": [],
   "source": [
    "# Remove file to save space in EC2 instance.\n",
    "rm amazon_reviews_us_Apparel_v1_00.tsv"
   ]
  },
  {
   "cell_type": "code",
   "execution_count": 0,
   "metadata": {
    "application/vnd.databricks.v1+cell": {
     "cellMetadata": {},
     "inputWidgets": {},
     "nuid": "ace31fcb-d542-4866-857a-8072c92a2629",
     "showTitle": true,
     "title": "APPENDIX B: EXPLORATORY DATA ANALYSIS CODE"
    }
   },
   "outputs": [],
   "source": [
    "# APPENDIX B: EXPLORATORY DATA ANALYSIS CODE\n",
    "\n",
    "# Import the necessary functions.\n",
    "python3\n",
    "import boto3\n",
    "import pandas as pd"
   ]
  },
  {
   "cell_type": "code",
   "execution_count": 0,
   "metadata": {
    "application/vnd.databricks.v1+cell": {
     "cellMetadata": {},
     "inputWidgets": {},
     "nuid": "bb70a50f-a9af-4a41-9d61-9b055c616fdb",
     "showTitle": false,
     "title": ""
    }
   },
   "outputs": [],
   "source": [
    "# Read in Amazon Review tsv file into a data frame.\n",
    "reviews_df = pd.read_csv(\"s3://my-bigdata-project-sf/landing/amazon_reviews_us_Gift_Card_v1_00.tsv\", sep='\\t', on_bad_lines='skip')"
   ]
  },
  {
   "cell_type": "code",
   "execution_count": 0,
   "metadata": {
    "application/vnd.databricks.v1+cell": {
     "cellMetadata": {},
     "inputWidgets": {},
     "nuid": "4c8ba5fe-3ef7-4aea-a8c7-3b44b4290243",
     "showTitle": false,
     "title": ""
    }
   },
   "outputs": [],
   "source": [
    "# Get the data type of each column in the file.\n",
    "reviews_df.dtypes"
   ]
  },
  {
   "cell_type": "code",
   "execution_count": 0,
   "metadata": {
    "application/vnd.databricks.v1+cell": {
     "cellMetadata": {},
     "inputWidgets": {},
     "nuid": "1464aa0b-d26b-489a-ad75-a97ff80acd19",
     "showTitle": false,
     "title": ""
    }
   },
   "outputs": [],
   "source": [
    "# Look at the first five rows of data.\n",
    "print(reviews_df.head(5))"
   ]
  },
  {
   "cell_type": "code",
   "execution_count": 0,
   "metadata": {
    "application/vnd.databricks.v1+cell": {
     "cellMetadata": {},
     "inputWidgets": {},
     "nuid": "c60399b0-f936-48cc-945b-7e33f2bbe2ce",
     "showTitle": false,
     "title": ""
    }
   },
   "outputs": [],
   "source": [
    "# Look at the basic information about the data frame, such as non-null values in each column.\n",
    "print(reviews_df.info())"
   ]
  },
  {
   "cell_type": "code",
   "execution_count": 0,
   "metadata": {
    "application/vnd.databricks.v1+cell": {
     "cellMetadata": {},
     "inputWidgets": {},
     "nuid": "ea0ee82b-663a-4d74-855e-b3ff684fb81e",
     "showTitle": false,
     "title": ""
    }
   },
   "outputs": [],
   "source": [
    "# Get the count, mean, standard deviation, minimum, and maximum for the numerical data.\n",
    "print(reviews_df.describe())"
   ]
  },
  {
   "cell_type": "code",
   "execution_count": 0,
   "metadata": {
    "application/vnd.databricks.v1+cell": {
     "cellMetadata": {},
     "inputWidgets": {},
     "nuid": "272a63bc-7c01-4b7c-b389-17b79134fbd8",
     "showTitle": false,
     "title": ""
    }
   },
   "outputs": [],
   "source": [
    "# Find out which columns in the data frame have null values.\n",
    "print(reviews_df.columns[reviews_df.isnull().any()].tolist())\n",
    "# Find out how many records in the data frame have null values.\n",
    "print(\"Rows with null values:\", reviews_df.isnull().any(axis=1).sum())"
   ]
  },
  {
   "cell_type": "code",
   "execution_count": 0,
   "metadata": {
    "application/vnd.databricks.v1+cell": {
     "cellMetadata": {},
     "inputWidgets": {},
     "nuid": "82ec4767-39fc-4848-a8ef-76ac9819457c",
     "showTitle": false,
     "title": ""
    }
   },
   "outputs": [],
   "source": [
    "# See how each star_rating compares to the total_votes.\n",
    "results = reviews_df.groupby('star_rating').total_votes.agg(['count', 'min', 'max', 'mean'])\n",
    "print(results)"
   ]
  },
  {
   "cell_type": "code",
   "execution_count": 0,
   "metadata": {
    "application/vnd.databricks.v1+cell": {
     "cellMetadata": {},
     "inputWidgets": {},
     "nuid": "f3571360-4262-495c-b806-ae0a6aa0a7c4",
     "showTitle": false,
     "title": ""
    }
   },
   "outputs": [],
   "source": [
    "# Get the number of words for each record of review text in the review_body column.\n",
    "num_words = reviews_df[\"review_body\"].str.split().str.len()\n",
    "print(num_words)"
   ]
  },
  {
   "cell_type": "code",
   "execution_count": 0,
   "metadata": {
    "application/vnd.databricks.v1+cell": {
     "cellMetadata": {},
     "inputWidgets": {},
     "nuid": "f2f175c5-2e9b-40c9-89bd-733b4b1d9409",
     "showTitle": false,
     "title": ""
    }
   },
   "outputs": [],
   "source": [
    "# Look at the most popular products in the file.\n",
    "print(reviews_df['product_title'].value_counts())"
   ]
  },
  {
   "cell_type": "code",
   "execution_count": 0,
   "metadata": {
    "application/vnd.databricks.v1+cell": {
     "cellMetadata": {},
     "inputWidgets": {},
     "nuid": "0c805bb9-2e3a-43f5-bfae-ef0b34d37d99",
     "showTitle": false,
     "title": ""
    }
   },
   "outputs": [],
   "source": [
    "# Look at the most popular star_rating among the products in the file.\n",
    "print(reviews_df['star_rating'].value_counts())"
   ]
  },
  {
   "cell_type": "code",
   "execution_count": 0,
   "metadata": {
    "application/vnd.databricks.v1+cell": {
     "cellMetadata": {},
     "inputWidgets": {},
     "nuid": "8c44ee41-aa08-4ff1-bcbb-7cfa613ed5f8",
     "showTitle": false,
     "title": ""
    }
   },
   "outputs": [],
   "source": [
    "# Find the maximum and minimum review_date in the file.\n",
    "reviews_df = pd.read_csv(\"s3://my-bigdata-project-sf/landing/amazon_reviews_us_Gift_Card_v1_00.tsv\", sep='\\t', on_bad_lines='skip', parse_dates=['review_date'])\n",
    "print(reviews_df['review_date'].max())\n",
    "print(reviews_df['review_date'].min())"
   ]
  },
  {
   "cell_type": "code",
   "execution_count": 0,
   "metadata": {
    "application/vnd.databricks.v1+cell": {
     "cellMetadata": {},
     "inputWidgets": {},
     "nuid": "345de845-625b-4d0a-81c3-1336e7208b59",
     "showTitle": false,
     "title": ""
    }
   },
   "outputs": [],
   "source": [
    "# Create a histogram of the star_rating data.\n",
    "import matplotlib.pyplot as plt\n",
    "plt.hist(reviews_df['star_rating'])"
   ]
  }
 ],
 "metadata": {
  "application/vnd.databricks.v1+notebook": {
   "dashboards": [],
   "language": "python",
   "notebookMetadata": {
    "pythonIndentUnit": 4
   },
   "notebookName": "AppendixAB_DataAcquisition_ExploratoryDataAnalysis",
   "widgets": {}
  }
 },
 "nbformat": 4,
 "nbformat_minor": 0
}
